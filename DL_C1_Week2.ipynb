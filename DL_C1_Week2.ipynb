{
 "cells": [
  {
   "cell_type": "markdown",
   "id": "5b7aa4a4-80ef-43d5-ad03-f589f5a26b62",
   "metadata": {},
   "source": [
    "## This is an example of a notebook"
   ]
  },
  {
   "cell_type": "code",
   "execution_count": 2,
   "id": "9c6b74cd-4483-41b7-ab86-20abda849ede",
   "metadata": {},
   "outputs": [],
   "source": [
    "import numpy as np "
   ]
  },
  {
   "cell_type": "code",
   "execution_count": 2,
   "id": "09442e92-d465-41b1-bea5-33903b27986a",
   "metadata": {},
   "outputs": [],
   "source": [
    "a = np.random.randn(5)"
   ]
  },
  {
   "cell_type": "code",
   "execution_count": 3,
   "id": "48ca9436-bf43-492e-95f4-8bfa4da136df",
   "metadata": {},
   "outputs": [
    {
     "name": "stdout",
     "output_type": "stream",
     "text": [
      "[-0.61995998 -1.207169    0.08671838  0.66262787  1.9865137 ]\n"
     ]
    }
   ],
   "source": [
    "print(a)"
   ]
  },
  {
   "cell_type": "code",
   "execution_count": 4,
   "id": "9eadf1fe-6115-4f3b-97fb-c0e6a294fcec",
   "metadata": {},
   "outputs": [
    {
     "name": "stdout",
     "output_type": "stream",
     "text": [
      "(5,)\n"
     ]
    }
   ],
   "source": [
    "print(a.shape)"
   ]
  },
  {
   "cell_type": "code",
   "execution_count": 5,
   "id": "c261daed-bcc9-4cfc-9238-2f528de9d881",
   "metadata": {},
   "outputs": [
    {
     "name": "stdout",
     "output_type": "stream",
     "text": [
      "[-0.61995998 -1.207169    0.08671838  0.66262787  1.9865137 ]\n"
     ]
    }
   ],
   "source": [
    "print(a.T)"
   ]
  },
  {
   "cell_type": "code",
   "execution_count": 6,
   "id": "366765f6-4d1c-4533-81fe-7fb8cd106118",
   "metadata": {},
   "outputs": [
    {
     "name": "stdout",
     "output_type": "stream",
     "text": [
      "6.234439821201556\n"
     ]
    }
   ],
   "source": [
    "print(np.dot(a,a.T))"
   ]
  },
  {
   "cell_type": "code",
   "execution_count": 3,
   "id": "1f1152a6-ecb3-4a0b-87fa-ba67d1a7bacd",
   "metadata": {},
   "outputs": [],
   "source": [
    "a = np.random.randn(5,1)"
   ]
  },
  {
   "cell_type": "markdown",
   "id": "c4c98266-1f3b-4a1d-88dd-0f670b0a99e1",
   "metadata": {
    "scrolled": true
   },
   "source": [
    "print(a)"
   ]
  },
  {
   "cell_type": "code",
   "execution_count": 4,
   "id": "4e098083-fc0d-43aa-bd59-edb10ddb1c22",
   "metadata": {
    "scrolled": true
   },
   "outputs": [
    {
     "name": "stdout",
     "output_type": "stream",
     "text": [
      "[[ 1.51607049e-01 -4.02606262e-02  8.41065030e-03  1.02108991e-01\n",
      "  -5.65767216e-01]\n",
      " [-4.02606262e-02  1.06915743e-02 -2.23352444e-03 -2.71159681e-02\n",
      "   1.50244613e-01]\n",
      " [ 8.41065030e-03 -2.23352444e-03  4.66594655e-04  5.66466414e-03\n",
      "  -3.13868666e-02]\n",
      " [ 1.02108991e-01 -2.71159681e-02  5.66466414e-03  6.87715119e-02\n",
      "  -3.81050353e-01]\n",
      " [-5.65767216e-01  1.50244613e-01 -3.13868666e-02 -3.81050353e-01\n",
      "   2.11133022e+00]]\n"
     ]
    }
   ],
   "source": [
    "print(np.dot(a,a.T))"
   ]
  },
  {
   "cell_type": "code",
   "execution_count": 15,
   "id": "0471b2dc-2d73-4c91-895d-254bd27c7ee3",
   "metadata": {},
   "outputs": [
    {
     "name": "stdout",
     "output_type": "stream",
     "text": [
      "(2, 2, 1)\n"
     ]
    }
   ],
   "source": [
    "b = np.array([[[1],[2]],[[3],[4]]])\n",
    "print(b.shape)"
   ]
  },
  {
   "cell_type": "code",
   "execution_count": 14,
   "id": "621eefe7-c9ac-4741-96f9-4852a231be45",
   "metadata": {},
   "outputs": [
    {
     "name": "stdout",
     "output_type": "stream",
     "text": [
      "(3, 3)\n"
     ]
    }
   ],
   "source": [
    "c = np.random.randn(3,3) * np.random.randn(1,3)\n",
    "print(c.shape)"
   ]
  },
  {
   "cell_type": "code",
   "execution_count": 19,
   "id": "48198bce-4291-4da6-bfd8-0cb7ad9893c4",
   "metadata": {},
   "outputs": [
    {
     "name": "stdout",
     "output_type": "stream",
     "text": [
      "(2, 2)\n",
      "[[3 3]\n",
      " [4 2]]\n"
     ]
    }
   ],
   "source": [
    "a=np.array([[1,1],[1,-1]])\n",
    "b=np.array([[2],[3]])\n",
    "c = a+b\n",
    "print(c.shape)\n",
    "print(c)"
   ]
  },
  {
   "cell_type": "code",
   "execution_count": 28,
   "id": "b12c9cf9-de48-4482-b6a0-35cb4a923923",
   "metadata": {},
   "outputs": [
    {
     "name": "stdout",
     "output_type": "stream",
     "text": [
      "[[-0.18168762  1.07036139  0.53836862  2.12247964]\n",
      " [-0.14767673  0.43274843 -0.91540196  0.35301755]\n",
      " [ 1.0442723   0.88771822 -0.99766915 -0.0984916 ]]\n",
      "\n",
      "\n",
      "\n",
      "[[-0.00398616 -1.03716661  0.45635547  1.55013966]]\n",
      "\n",
      "\n",
      "\n",
      "[[-0.18567378  0.03319478  0.99472409  3.6726193 ]\n",
      " [-0.15166289 -0.60441818 -0.45904649  1.90315721]\n",
      " [ 1.04028613 -0.14944838 -0.54131368  1.45164806]]\n"
     ]
    }
   ],
   "source": [
    "a = np.random.randn(3,4)\n",
    "b = np.random.randn(4,1)\n",
    "print(a)\n",
    "print('\\n\\n')\n",
    "print(b.T)\n",
    "print('\\n\\n')\n",
    "print(a + b.T)"
   ]
  },
  {
   "cell_type": "code",
   "execution_count": 29,
   "id": "8a43656b-8123-43e3-8bf6-cd3b79c824d0",
   "metadata": {},
   "outputs": [
    {
     "name": "stdout",
     "output_type": "stream",
     "text": [
      "[[ 5  5]\n",
      " [ 5 10]]\n"
     ]
    }
   ],
   "source": [
    "a = np.array([[2,1],[1,3]])\n",
    "print(np.dot(a,a))"
   ]
  },
  {
   "cell_type": "code",
   "execution_count": 31,
   "id": "ddfa2570-75e0-4b80-b020-697b3a92630b",
   "metadata": {},
   "outputs": [
    {
     "ename": "SyntaxError",
     "evalue": "invalid syntax (3271798493.py, line 1)",
     "output_type": "error",
     "traceback": [
      "\u001b[0;36m  Cell \u001b[0;32mIn[31], line 1\u001b[0;36m\u001b[0m\n\u001b[0;31m    Question 1\u001b[0m\n\u001b[0m             ^\u001b[0m\n\u001b[0;31mSyntaxError\u001b[0m\u001b[0;31m:\u001b[0m invalid syntax\n"
     ]
    }
   ],
   "source": [
    "\n",
    "\n",
    "\n"
   ]
  },
  {
   "cell_type": "code",
   "execution_count": null,
   "id": "42b52992-5403-4ad0-b0f1-db7bd44b6885",
   "metadata": {},
   "outputs": [],
   "source": []
  }
 ],
 "metadata": {
  "kernelspec": {
   "display_name": "Python 3 (ipykernel)",
   "language": "python",
   "name": "python3"
  },
  "language_info": {
   "codemirror_mode": {
    "name": "ipython",
    "version": 3
   },
   "file_extension": ".py",
   "mimetype": "text/x-python",
   "name": "python",
   "nbconvert_exporter": "python",
   "pygments_lexer": "ipython3",
   "version": "3.9.6"
  }
 },
 "nbformat": 4,
 "nbformat_minor": 5
}
