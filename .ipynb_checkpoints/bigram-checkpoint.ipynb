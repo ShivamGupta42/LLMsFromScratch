{
 "cells": [
  {
   "cell_type": "code",
   "execution_count": 21,
   "id": "e5a61fa9-e823-40d2-8127-9af1879ccfd2",
   "metadata": {},
   "outputs": [
    {
     "name": "stdout",
     "output_type": "stream",
     "text": [
      "cpu\n"
     ]
    }
   ],
   "source": [
    "import torch as t\n",
    "import torch.nn as nn \n",
    "from torch.nn import functional as F \n",
    "\n",
    "device = 'cuda' if t.cuda.is_available() else 'cpu'\n",
    "print(device)\n",
    "\n",
    "block_size = 8\n",
    "batch_size =4"
   ]
  },
  {
   "cell_type": "code",
   "execution_count": 8,
   "id": "215b362c",
   "metadata": {},
   "outputs": [
    {
     "name": "stdout",
     "output_type": "stream",
     "text": [
      "﻿DOROTHY AND THE WIZARD IN OZ\n",
      "\n",
      "  BY\n",
      "\n",
      "  L. FRANK BAUM\n",
      "\n",
      "  AUTHOR OF THE WIZARD OF OZ, THE LAND OF OZ, OZMA OF OZ, ETC.\n",
      "\n",
      "  ILLUSTRATED BY JOHN R. NEILL\n",
      "\n",
      "  BOOKS OF WONDER WILLIAM MORROW & CO., INC. NEW Y\n"
     ]
    }
   ],
   "source": [
    "with open(\"wizard_of_oz.text\",\"r\",encoding=\"utf-8\") as f:\n",
    "    text = f.read()\n",
    "    print(text[:200])"
   ]
  },
  {
   "cell_type": "code",
   "execution_count": 9,
   "id": "d29fff89-baa7-41f0-a012-467fa4bf4bfe",
   "metadata": {},
   "outputs": [
    {
     "name": "stdout",
     "output_type": "stream",
     "text": [
      "['\\n', ' ', '!', '\"', '&', \"'\", '(', ')', '*', ',', '-', '.', '0', '1', '2', '3', '4', '5', '6', '7', '8', '9', ':', ';', '?', 'A', 'B', 'C', 'D', 'E', 'F', 'G', 'H', 'I', 'J', 'K', 'L', 'M', 'N', 'O', 'P', 'Q', 'R', 'S', 'T', 'U', 'V', 'W', 'X', 'Y', 'Z', '[', ']', '_', 'a', 'b', 'c', 'd', 'e', 'f', 'g', 'h', 'i', 'j', 'k', 'l', 'm', 'n', 'o', 'p', 'q', 'r', 's', 't', 'u', 'v', 'w', 'x', 'y', 'z', '\\ufeff']\n",
      "81\n",
      "encoding  Hello  ->  [32, 58, 65, 65, 68]\n",
      "decoding  [32, 58, 65, 65, 68]  ->  Hello\n"
     ]
    }
   ],
   "source": [
    "##Character Level Encoding / Decoding\n",
    "\n",
    "chars = sorted(set(text))\n",
    "print(chars)\n",
    "print(len(chars))\n",
    "\n",
    "### Encoding and Decoding\n",
    "str_to_int = {ch:i for i,ch in enumerate(chars)}\n",
    "encode = lambda s : [str_to_int[c] for c in s]\n",
    "str = \"Hello\"\n",
    "encoding = encode(str)\n",
    "print('encoding ',str, ' -> ',encoding )\n",
    "\n",
    "int_to_str = {i:ch for i,ch in enumerate(chars)}\n",
    "decode = lambda list: ''.join([int_to_str[i] for i in list])\n",
    "print('decoding ',encoding, ' -> ', decode(encode(\"Hello\")))"
   ]
  },
  {
   "cell_type": "code",
   "execution_count": 22,
   "id": "9243f909-0c49-4021-9c30-f008d445edc2",
   "metadata": {},
   "outputs": [
    {
     "name": "stdout",
     "output_type": "stream",
     "text": [
      "tensor([80, 28, 39, 42, 39, 44, 32, 49,  1, 25, 38, 28,  1, 44, 32, 29,  1, 47,\n",
      "        33, 50, 25, 42, 28,  1, 33, 38,  1, 39, 50,  0,  0,  1,  1, 26, 49,  0,\n",
      "         0,  1,  1, 36, 11,  1, 30, 42, 25, 38, 35,  1, 26, 25, 45, 37,  0,  0,\n",
      "         1,  1, 25, 45, 44, 32, 39, 42,  1, 39, 30,  1, 44, 32, 29,  1, 47, 33,\n",
      "        50, 25, 42, 28,  1, 39, 30,  1, 39, 50,  9,  1, 44, 32, 29,  1, 36, 25,\n",
      "        38, 28,  1, 39, 30,  1, 39, 50,  9,  1, 39, 50, 37, 25,  1, 39, 30,  1,\n",
      "        39, 50,  9,  1, 29, 44, 27, 11,  0,  0,  1,  1, 33, 36, 36, 45, 43, 44,\n",
      "        42, 25, 44, 29, 28,  1, 26, 49,  1, 34, 39, 32, 38,  1, 42, 11,  1, 38,\n",
      "        29, 33, 36, 36,  0,  0,  1,  1, 26, 39, 39, 35, 43,  1, 39, 30,  1, 47,\n",
      "        39, 38, 28, 29, 42,  1, 47, 33, 36, 36, 33, 25, 37,  1, 37, 39, 42, 42,\n",
      "        39, 47,  1,  4,  1, 27, 39, 11,  9,  1, 33, 38, 27, 11,  1, 38, 29, 47,\n",
      "         1, 49])\n",
      "when context is tensor([80])  target is  tensor(28)\n",
      "when context is tensor([80, 28])  target is  tensor(39)\n",
      "when context is tensor([80, 28, 39])  target is  tensor(42)\n",
      "when context is tensor([80, 28, 39, 42])  target is  tensor(39)\n",
      "when context is tensor([80, 28, 39, 42, 39])  target is  tensor(44)\n",
      "when context is tensor([80, 28, 39, 42, 39, 44])  target is  tensor(32)\n",
      "when context is tensor([80, 28, 39, 42, 39, 44, 32])  target is  tensor(49)\n",
      "when context is tensor([80, 28, 39, 42, 39, 44, 32, 49])  target is  tensor(1)\n",
      "inputs: tensor([[59, 74, 71, 73, 61, 58, 71,  1],\n",
      "        [73, 61, 58,  1, 56, 65, 68, 74],\n",
      "        [55, 68, 78,  9,  1, 62, 67,  1],\n",
      "        [76, 61, 68, 65, 58,  0, 67, 54]])\n",
      "targets: tensor([[74, 71, 73, 61, 58, 71,  1, 69],\n",
      "        [61, 58,  1, 56, 65, 68, 74, 57],\n",
      "        [68, 78,  9,  1, 62, 67,  1, 54],\n",
      "        [61, 68, 65, 58,  0, 67, 54, 66]])\n"
     ]
    }
   ],
   "source": [
    "# Big Boy Stuff\n",
    "\n",
    "data = t.tensor(encode(text), dtype=torch.long)\n",
    "print(data[:200])\n",
    "\n",
    "# Split the data into training (first 80%) and validation (remaining 20%) datasets.\n",
    "n = int(0.8 * len(data))\n",
    "train_data = data[:n]\n",
    "val_data = data[n:]\n",
    "\n",
    "\n",
    "# Simple Biagram \n",
    "\n",
    "x = train_data[:block_size]\n",
    "y = train_data[1:block_size+1]\n",
    "\n",
    "for i in range(block_size): \n",
    "    context = x[:i+1]\n",
    "    target = y[i]\n",
    "    print('when context is', context, ' target is ', target)\n",
    "\n",
    "\n",
    "\n",
    "# Get batch function\n",
    "\n",
    "def get_batch(split):\n",
    "    \"\"\"\n",
    "    Generate a batch of data for training or validation.\n",
    "\n",
    "    Parameters:\n",
    "    split (str): A string that can be 'train' or 'val' indicating whether\n",
    "                 to fetch training or validation data.\n",
    "\n",
    "    Returns:\n",
    "    Tuple[Tensor, Tensor]: A tuple of two tensors, inputs (x) and targets (y).\n",
    "                           Each tensor contains a batch of sequences.\n",
    "    \"\"\"\n",
    "    # Select the appropriate data split based on the 'split' argument.\n",
    "    data = train_data if split == \"train\" else val_data\n",
    "\n",
    "    # Randomly select starting indices for sequences in the batch. \n",
    "    # Ensures selected sequences will fit within the remaining data.\n",
    "    ix = t.randint(len(data) - block_size, (batch_size,))\n",
    "\n",
    "    # Create the input batch by selecting sequences starting from indices in ix.\n",
    "    x = t.stack([data[i:i + block_size] for i in ix])\n",
    "\n",
    "    # Create the target batch, offset by one element from the input batch,\n",
    "    # to align with the bigram prediction task.\n",
    "    y = t.stack([data[i + 1:i + block_size + 1] for i in ix])\n",
    "\n",
    "    return x, y\n",
    "\n",
    "\n",
    "# Fetch and print a batch of training data\n",
    "\n",
    "# Get a batch of training data.\n",
    "x, y = get_batch(\"train\")\n",
    "\n",
    "# Print the input sequences of the batch.\n",
    "print(f\"inputs: {x}\")\n",
    "\n",
    "# Print the corresponding target sequences of the batch. \n",
    "print(f\"targets: {y}\")\n"
   ]
  },
  {
   "cell_type": "code",
   "execution_count": 27,
   "id": "bcc1ad06-a0f5-4585-b17f-1f9d2dea843f",
   "metadata": {},
   "outputs": [],
   "source": [
    "# Create a Neural Net\n",
    "\n",
    "class BiagramLanguageModel(nn.Module):\n",
    "    def _init_(self,vocab_size):\n",
    "        super()._init_()\n",
    "        self.token_embedding_table = nn.Embedding(vocab_size, vocab_size)\n",
    "\n",
    "    def forward(self,index,targets):\n",
    "        logits = self.token_embedding_table(index)\n",
    "\n",
    "        if targets == None:\n",
    "            loss = None\n",
    "        else:     \n",
    "            B , T , C  = logits.shape\n",
    "            logits = logits.view(B*T, C)\n",
    "            targets = targets.view(B*T)\n",
    "            loss = F.cross_entropy\n",
    "        \n",
    "        return logits, loss\n",
    "\n",
    "\n",
    "     def generate(self, index, max_new_tokens):\n"
   ]
  },
  {
   "cell_type": "code",
   "execution_count": null,
   "id": "246c13f4-f503-42c8-8cef-9a645be79024",
   "metadata": {},
   "outputs": [],
   "source": [
    "## Neural Net "
   ]
  },
  {
   "cell_type": "code",
   "execution_count": null,
   "id": "fb0af42e-2ce8-4a33-9eb6-6142b6b0984a",
   "metadata": {},
   "outputs": [],
   "source": []
  }
 ],
 "metadata": {
  "kernelspec": {
   "display_name": "poetry_llm",
   "language": "python",
   "name": "poetry_llm"
  },
  "language_info": {
   "codemirror_mode": {
    "name": "ipython",
    "version": 3
   },
   "file_extension": ".py",
   "mimetype": "text/x-python",
   "name": "python",
   "nbconvert_exporter": "python",
   "pygments_lexer": "ipython3",
   "version": "3.9.6"
  }
 },
 "nbformat": 4,
 "nbformat_minor": 5
}
