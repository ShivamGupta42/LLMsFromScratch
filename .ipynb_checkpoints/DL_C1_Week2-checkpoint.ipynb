{
 "cells": [
  {
   "cell_type": "markdown",
   "id": "5b7aa4a4-80ef-43d5-ad03-f589f5a26b62",
   "metadata": {},
   "source": [
    "## This is an example of a notebook"
   ]
  },
  {
   "cell_type": "code",
   "execution_count": 2,
   "id": "9c6b74cd-4483-41b7-ab86-20abda849ede",
   "metadata": {},
   "outputs": [],
   "source": [
    "import numpy as np "
   ]
  },
  {
   "cell_type": "code",
   "execution_count": 2,
   "id": "09442e92-d465-41b1-bea5-33903b27986a",
   "metadata": {},
   "outputs": [],
   "source": [
    "a = np.random.randn(5)"
   ]
  },
  {
   "cell_type": "code",
   "execution_count": 3,
   "id": "48ca9436-bf43-492e-95f4-8bfa4da136df",
   "metadata": {},
   "outputs": [
    {
     "name": "stdout",
     "output_type": "stream",
     "text": [
      "[-0.61995998 -1.207169    0.08671838  0.66262787  1.9865137 ]\n"
     ]
    }
   ],
   "source": [
    "print(a)"
   ]
  },
  {
   "cell_type": "code",
   "execution_count": 4,
   "id": "9eadf1fe-6115-4f3b-97fb-c0e6a294fcec",
   "metadata": {},
   "outputs": [
    {
     "name": "stdout",
     "output_type": "stream",
     "text": [
      "(5,)\n"
     ]
    }
   ],
   "source": [
    "print(a.shape)"
   ]
  },
  {
   "cell_type": "code",
   "execution_count": 5,
   "id": "c261daed-bcc9-4cfc-9238-2f528de9d881",
   "metadata": {},
   "outputs": [
    {
     "name": "stdout",
     "output_type": "stream",
     "text": [
      "[-0.61995998 -1.207169    0.08671838  0.66262787  1.9865137 ]\n"
     ]
    }
   ],
   "source": [
    "print(a.T)"
   ]
  },
  {
   "cell_type": "code",
   "execution_count": 6,
   "id": "366765f6-4d1c-4533-81fe-7fb8cd106118",
   "metadata": {},
   "outputs": [
    {
     "name": "stdout",
     "output_type": "stream",
     "text": [
      "6.234439821201556\n"
     ]
    }
   ],
   "source": [
    "print(np.dot(a,a.T))"
   ]
  },
  {
   "cell_type": "code",
   "execution_count": 3,
   "id": "1f1152a6-ecb3-4a0b-87fa-ba67d1a7bacd",
   "metadata": {},
   "outputs": [],
   "source": [
    "a = np.random.randn(5,1)"
   ]
  },
  {
   "cell_type": "markdown",
   "id": "c4c98266-1f3b-4a1d-88dd-0f670b0a99e1",
   "metadata": {
    "scrolled": true
   },
   "source": [
    "print(a)"
   ]
  },
  {
   "cell_type": "code",
   "execution_count": 4,
   "id": "4e098083-fc0d-43aa-bd59-edb10ddb1c22",
   "metadata": {
    "scrolled": true
   },
   "outputs": [
    {
     "name": "stdout",
     "output_type": "stream",
     "text": [
      "[[ 1.51607049e-01 -4.02606262e-02  8.41065030e-03  1.02108991e-01\n",
      "  -5.65767216e-01]\n",
      " [-4.02606262e-02  1.06915743e-02 -2.23352444e-03 -2.71159681e-02\n",
      "   1.50244613e-01]\n",
      " [ 8.41065030e-03 -2.23352444e-03  4.66594655e-04  5.66466414e-03\n",
      "  -3.13868666e-02]\n",
      " [ 1.02108991e-01 -2.71159681e-02  5.66466414e-03  6.87715119e-02\n",
      "  -3.81050353e-01]\n",
      " [-5.65767216e-01  1.50244613e-01 -3.13868666e-02 -3.81050353e-01\n",
      "   2.11133022e+00]]\n"
     ]
    }
   ],
   "source": [
    "print(np.dot(a,a.T))"
   ]
  },
  {
   "cell_type": "code",
   "execution_count": null,
   "id": "0471b2dc-2d73-4c91-895d-254bd27c7ee3",
   "metadata": {},
   "outputs": [],
   "source": []
  }
 ],
 "metadata": {
  "kernelspec": {
   "display_name": "Python 3 (ipykernel)",
   "language": "python",
   "name": "python3"
  },
  "language_info": {
   "codemirror_mode": {
    "name": "ipython",
    "version": 3
   },
   "file_extension": ".py",
   "mimetype": "text/x-python",
   "name": "python",
   "nbconvert_exporter": "python",
   "pygments_lexer": "ipython3",
   "version": "3.9.6"
  }
 },
 "nbformat": 4,
 "nbformat_minor": 5
}
