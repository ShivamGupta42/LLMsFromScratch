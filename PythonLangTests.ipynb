{
 "cells": [
  {
   "cell_type": "code",
   "execution_count": 24,
   "metadata": {},
   "outputs": [
    {
     "name": "stdout",
     "output_type": "stream",
     "text": [
      "DOROTHY AND THE WIZARD IN OZ\n",
      "\n",
      "  BY\n",
      "\n",
      "  L. FRANK BAUM\n",
      "\n",
      "  AUTHOR OF THE WIZARD OF OZ, THE LAND OF OZ, OZMA OF OZ, ETC.\n",
      "\n",
      "  ILLUSTRATED BY JOHN R. NEILL\n",
      "\n",
      "  BOOKS OF WONDER WILLIAM MORROW & CO., INC. NEW Y\n"
     ]
    }
   ],
   "source": [
    "## Open token data source\n",
    "with open(\"wizard_of_oz.text\",\"r\",encoding=\"utf-8\") as f:\n",
    "    text = f.read()\n",
    "    print(text[:200])"
   ]
  },
  {
   "cell_type": "code",
   "execution_count": 27,
   "metadata": {},
   "outputs": [
    {
     "name": "stdout",
     "output_type": "stream",
     "text": [
      "[32, 58, 65, 65, 68]\n"
     ]
    },
    {
     "data": {
      "text/plain": [
       "'Hello'"
      ]
     },
     "execution_count": 27,
     "metadata": {},
     "output_type": "execute_result"
    }
   ],
   "source": [
    "## Create Bigram Encoders and Decoders\n",
    "### Convert raw character data into a sorted unique character data\n",
    "chars = sorted(set(text))\n",
    "\n",
    "### Create mapping of character and its positiion in the above set and vice versa\n",
    "ch_to_int = { c:i for i,c in enumerate(chars)}\n",
    "int_to_ch = { i:c for i,c in enumerate(chars)}\n",
    "\n",
    "### Encoder - convert a sequence of characters into a list of numbers as per their position in training set \n",
    "encoder = lambda s: [ch_to_int[c] for c in s]\n",
    "print(encoder(\"Hello\"))\n",
    "\n",
    "### Decoder - convert a string of numbers into characters as per mapping based on original training set \n",
    "decoder = lambda list : ''.join([int_to_ch[i] for i in list])\n",
    "decoder(encoder(\"Hello\"))\n",
    "\n"
   ]
  },
  {
   "cell_type": "code",
   "execution_count": null,
   "metadata": {},
   "outputs": [],
   "source": []
  },
  {
   "cell_type": "code",
   "execution_count": null,
   "metadata": {},
   "outputs": [],
   "source": []
  },
  {
   "cell_type": "code",
   "execution_count": null,
   "metadata": {},
   "outputs": [],
   "source": []
  }
 ],
 "metadata": {
  "kernelspec": {
   "display_name": "codingmakemore-gVBW_at_-py3.9",
   "language": "python",
   "name": "python3"
  },
  "language_info": {
   "codemirror_mode": {
    "name": "ipython",
    "version": 3
   },
   "file_extension": ".py",
   "mimetype": "text/x-python",
   "name": "python",
   "nbconvert_exporter": "python",
   "pygments_lexer": "ipython3",
   "version": "3.9.6"
  }
 },
 "nbformat": 4,
 "nbformat_minor": 2
}
