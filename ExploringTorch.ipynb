{
 "cells": [
  {
   "cell_type": "code",
   "execution_count": 28,
   "id": "792476b1-ec1d-4b9f-b633-1738641bd138",
   "metadata": {},
   "outputs": [
    {
     "data": {
      "text/plain": [
       "'cpu'"
      ]
     },
     "execution_count": 28,
     "metadata": {},
     "output_type": "execute_result"
    }
   ],
   "source": [
    "import torch as t\n",
    "import numpy as np\n",
    "import time \n",
    "device = 'cuda' if t.cuda.is_available() else 'cpu'\n",
    "device "
   ]
  },
  {
   "cell_type": "code",
   "execution_count": 3,
   "id": "8dbd5868-2cbc-4285-9e35-04cdb324f5b9",
   "metadata": {},
   "outputs": [
    {
     "data": {
      "text/plain": [
       "tensor([ 98,  32,  48,  14,  89, -22])"
      ]
     },
     "execution_count": 3,
     "metadata": {},
     "output_type": "execute_result"
    }
   ],
   "source": [
    "## Basic tensor creations\n",
    "\n",
    "randTensor = t.randint(-100,100,(6,))\n",
    "randTensor"
   ]
  },
  {
   "cell_type": "code",
   "execution_count": 9,
   "id": "64cc0451-7426-4090-8a63-64dc1a7eab9b",
   "metadata": {},
   "outputs": [
    {
     "data": {
      "text/plain": [
       "tensor([[1.0000, 2.0000, 3.0000],\n",
       "        [4.2000, 5.1000, 6.1000]])"
      ]
     },
     "execution_count": 9,
     "metadata": {},
     "output_type": "execute_result"
    }
   ],
   "source": [
    "t.tensor([[1,2,3],[4.2,5.1,6.1])"
   ]
  },
  {
   "cell_type": "code",
   "execution_count": 10,
   "id": "eee9fdbd-005f-423f-a739-262c9b23b627",
   "metadata": {},
   "outputs": [
    {
     "data": {
      "text/plain": [
       "tensor([[0., 0., 0., 0., 0.],\n",
       "        [0., 0., 0., 0., 0.],\n",
       "        [0., 0., 0., 0., 0.],\n",
       "        [0., 0., 0., 0., 0.],\n",
       "        [0., 0., 0., 0., 0.]])"
      ]
     },
     "execution_count": 10,
     "metadata": {},
     "output_type": "execute_result"
    }
   ],
   "source": [
    "t.zeros(5,5)"
   ]
  },
  {
   "cell_type": "code",
   "execution_count": 37,
   "id": "0825cd16-30b9-4db3-bd56-9a8a496203c7",
   "metadata": {},
   "outputs": [
    {
     "name": "stdout",
     "output_type": "stream",
     "text": [
      "CPU times: user 691 µs, sys: 1.38 ms, total: 2.07 ms\n",
      "Wall time: 2.51 ms\n"
     ]
    },
    {
     "data": {
      "text/plain": [
       "tensor([[1., 1., 1., 1.],\n",
       "        [1., 1., 1., 1.]])"
      ]
     },
     "execution_count": 37,
     "metadata": {},
     "output_type": "execute_result"
    }
   ],
   "source": [
    "%%time\n",
    "t.ones(2,4)"
   ]
  },
  {
   "cell_type": "code",
   "execution_count": 14,
   "id": "b8c23976-8d75-40de-9b6f-d556a02ec8b7",
   "metadata": {},
   "outputs": [
    {
     "data": {
      "text/plain": [
       "tensor([[0., 0.]])"
      ]
     },
     "execution_count": 14,
     "metadata": {},
     "output_type": "execute_result"
    }
   ],
   "source": [
    "t.empty(1,2)"
   ]
  },
  {
   "cell_type": "code",
   "execution_count": 17,
   "id": "3fbf3bc3-88b2-4eac-bb87-88aa0dae6c65",
   "metadata": {},
   "outputs": [
    {
     "data": {
      "text/plain": [
       "tensor([0, 1, 2, 3, 4])"
      ]
     },
     "execution_count": 17,
     "metadata": {},
     "output_type": "execute_result"
    }
   ],
   "source": [
    "t.arange(0,5)"
   ]
  },
  {
   "cell_type": "code",
   "execution_count": 19,
   "id": "c197576d-158c-4f5d-9b4a-6062a27bfe30",
   "metadata": {},
   "outputs": [
    {
     "data": {
      "text/plain": [
       "tensor([ 3.,  7., 11., 15., 19.])"
      ]
     },
     "execution_count": 19,
     "metadata": {},
     "output_type": "execute_result"
    }
   ],
   "source": [
    "t.linspace(3,19,steps=5)"
   ]
  },
  {
   "cell_type": "code",
   "execution_count": 22,
   "id": "9c16fec3-625e-4384-a027-9ee5daf869f5",
   "metadata": {},
   "outputs": [
    {
     "data": {
      "text/plain": [
       "tensor([1.0000e-10, 1.0000e-05, 1.0000e+00, 1.0000e+05, 1.0000e+10])"
      ]
     },
     "execution_count": 22,
     "metadata": {},
     "output_type": "execute_result"
    }
   ],
   "source": [
    "t.logspace(start=-10,end=10,steps=5)"
   ]
  },
  {
   "cell_type": "code",
   "execution_count": 23,
   "id": "281981df-9c84-4b5a-81a8-0ba21000c95f",
   "metadata": {},
   "outputs": [
    {
     "data": {
      "text/plain": [
       "tensor([[1., 0., 0., 0., 0.],\n",
       "        [0., 1., 0., 0., 0.],\n",
       "        [0., 0., 1., 0., 0.],\n",
       "        [0., 0., 0., 1., 0.],\n",
       "        [0., 0., 0., 0., 1.]])"
      ]
     },
     "execution_count": 23,
     "metadata": {},
     "output_type": "execute_result"
    }
   ],
   "source": [
    "t.eye(5)"
   ]
  },
  {
   "cell_type": "code",
   "execution_count": 25,
   "id": "c343a623-113c-4d44-b236-c8cd437b5782",
   "metadata": {},
   "outputs": [
    {
     "data": {
      "text/plain": [
       "tensor([[0, 0, 0],\n",
       "        [0, 0, 0]])"
      ]
     },
     "execution_count": 25,
     "metadata": {},
     "output_type": "execute_result"
    }
   ],
   "source": [
    "empty = t.empty(2,3, dtype=t.int64)\n",
    "empty_like = t.empty_like(empty)\n",
    "empty_like"
   ]
  },
  {
   "cell_type": "code",
   "execution_count": 94,
   "id": "6efb2ade-8c96-4c5e-b6dd-dbcd23752e3b",
   "metadata": {},
   "outputs": [
    {
     "name": "stdout",
     "output_type": "stream",
     "text": [
      " Torch Multiply 1000*1000 : 0.01877832\n",
      " Np Multiply 1000*1000 : 0.00907326\n",
      " Torch MatMul 1000*1000 : 0.00907493\n"
     ]
    }
   ],
   "source": [
    "## Timing matrix operations\n",
    "\n",
    "### Init \n",
    "start = time.time()\n",
    "zeros = t.zeros(1000,1000)\n",
    "end = time.time()\n",
    "#print(f'Init 1000*1000 : {(end-start):.8f}')\n",
    "\n",
    "\n",
    "### Multiply \n",
    "\n",
    "start = time.time()\n",
    "t_ones_a = t.rand(1000,1000)\n",
    "t_ones_b = t.rand(1000,1000)\n",
    "result = (t_ones_a @ t_ones_b)\n",
    "end = time.time()\n",
    "print(f' Torch Multiply 1000*1000 : {(end-start):.8f}')\n",
    "\n",
    "start = time.time()\n",
    "np_ones_a = t.rand(1000,1000)\n",
    "np_ones_b = t.rand(1000,1000)\n",
    "result = np.multiply(np_ones_a,np_ones_b)\n",
    "end = time.time()\n",
    "print(f' Np Multiply 1000*1000 : {(end-start):.8f}')\n",
    "\n",
    "\n",
    "start = time.time()\n",
    "np_ones_a = t.rand(1000,1000)\n",
    "np_ones_b = t.rand(1000,1000)\n",
    "result = t.matmul(np_ones_a,np_ones_b)\n",
    "end = time.time()\n",
    "print(f' Torch MatMul 1000*1000 : {(end-start):.8f}')\n"
   ]
  },
  {
   "cell_type": "code",
   "execution_count": 93,
   "id": "a40732b3-5325-410c-9ca0-2850ef44b31a",
   "metadata": {},
   "outputs": [
    {
     "name": "stdout",
     "output_type": "stream",
     "text": [
      "Probablities tensor([1, 1, 1, 1, 1, 1, 1, 1, 1, 1])\n"
     ]
    }
   ],
   "source": [
    "# Define a probablity tensor\n",
    "tensor = t.tensor([0.1,0.9])\n",
    "\n",
    "# Get 10 samples from probablity set\n",
    "samples = t.multinomial(tensor, num_samples=10,replacement=True)\n",
    "print(f'Probablities {samples}')"
   ]
  },
  {
   "cell_type": "code",
   "execution_count": 48,
   "id": "dba26b32-7bd0-4644-ad4e-04b5ecc049d2",
   "metadata": {},
   "outputs": [
    {
     "name": "stdout",
     "output_type": "stream",
     "text": [
      "Concat tensor([0.1000, 0.9000, 5.0000])\n"
     ]
    }
   ],
   "source": [
    "# Tensor Concat\n",
    "out = t.cat((tensor,t.tensor([5])),dim=0)\n",
    "print(f'Concat {out}')"
   ]
  },
  {
   "cell_type": "code",
   "execution_count": 49,
   "id": "1cafc324-aadf-4728-9e0f-49662f945fdd",
   "metadata": {},
   "outputs": [
    {
     "name": "stdout",
     "output_type": "stream",
     "text": [
      "Tril tensor([[1., 0., 0., 0., 0.],\n",
      "        [1., 1., 0., 0., 0.],\n",
      "        [1., 1., 1., 0., 0.],\n",
      "        [1., 1., 1., 1., 0.],\n",
      "        [1., 1., 1., 1., 1.]])\n",
      "Triu tensor([[1., 1., 1., 1., 1.],\n",
      "        [0., 1., 1., 1., 1.],\n",
      "        [0., 0., 1., 1., 1.],\n",
      "        [0., 0., 0., 1., 1.],\n",
      "        [0., 0., 0., 0., 1.]])\n"
     ]
    }
   ],
   "source": [
    "# Tensor Tril - Triangle Lower\n",
    "## Based on history of knowledge, predict what's next? \n",
    "trill = t.tril(t.ones(5,5))\n",
    "print(f'Tril {trill}')\n",
    "\n",
    "\n",
    "# Tensor Tril - Triangle Upper\n",
    "## Based on history of knowledge, predict what's next? \n",
    "triu = t.triu(t.ones(5,5))\n",
    "print(f'Triu {triu}')"
   ]
  },
  {
   "cell_type": "code",
   "execution_count": 52,
   "id": "14d0fe70-b604-41e3-951d-35e0a440b3f0",
   "metadata": {},
   "outputs": [
    {
     "data": {
      "text/plain": [
       "tensor([[0., -inf, -inf, -inf, -inf],\n",
       "        [0., 0., -inf, -inf, -inf],\n",
       "        [0., 0., 0., -inf, -inf],\n",
       "        [0., 0., 0., 0., -inf],\n",
       "        [0., 0., 0., 0., 0.]])"
      ]
     },
     "execution_count": 52,
     "metadata": {},
     "output_type": "execute_result"
    }
   ],
   "source": [
    "# Masked Fill\n",
    "\n",
    "out = t.zeros(5,5).masked_fill(t.tril(t.ones(5,5))==0,float('-inf'))\n",
    "out"
   ]
  },
  {
   "cell_type": "code",
   "execution_count": 54,
   "id": "5c981482-4929-4838-8269-a0461e497e8a",
   "metadata": {},
   "outputs": [
    {
     "data": {
      "text/plain": [
       "tensor([[1., 0., 0., 0., 0.],\n",
       "        [1., 1., 0., 0., 0.],\n",
       "        [1., 1., 1., 0., 0.],\n",
       "        [1., 1., 1., 1., 0.],\n",
       "        [1., 1., 1., 1., 1.]])"
      ]
     },
     "execution_count": 54,
     "metadata": {},
     "output_type": "execute_result"
    }
   ],
   "source": [
    "# e ^ values in matrix\n",
    "\n",
    "t.exp(out)"
   ]
  },
  {
   "cell_type": "code",
   "execution_count": 59,
   "id": "759cd397-f9b5-419d-87ac-de41ac554e58",
   "metadata": {},
   "outputs": [
    {
     "data": {
      "text/plain": [
       "torch.Size([4, 3, 2])"
      ]
     },
     "execution_count": 59,
     "metadata": {},
     "output_type": "execute_result"
    }
   ],
   "source": [
    "# Transposing\n",
    "input = t.zeros(2,3,4)\n",
    "out = input.transpose(0,2)\n",
    "out.shape"
   ]
  },
  {
   "cell_type": "code",
   "execution_count": 62,
   "id": "c478dc9e-79ae-4ade-9dcd-4d71b3ce3e25",
   "metadata": {},
   "outputs": [
    {
     "data": {
      "text/plain": [
       "tensor([[1, 2, 3],\n",
       "        [4, 5, 6],\n",
       "        [7, 8, 9]])"
      ]
     },
     "execution_count": 62,
     "metadata": {},
     "output_type": "execute_result"
    }
   ],
   "source": [
    "# Stack tensors along a dimension \n",
    "\n",
    "tensor1 = t.tensor([1,2,3])\n",
    "tensor2 = t.tensor([4,5,6])\n",
    "tensor3 = t.tensor([7,8,9])\n",
    "\n",
    "stacked_tensor = t.stack([tensor1,tensor2,tensor3])\n",
    "stacked_tensor"
   ]
  },
  {
   "cell_type": "code",
   "execution_count": 66,
   "id": "ce0394a1-78de-4884-99e2-c40a1a2e7628",
   "metadata": {},
   "outputs": [
    {
     "name": "stdout",
     "output_type": "stream",
     "text": [
      "tensor([-0.6331,  0.9492,  0.1030], grad_fn=<SqueezeBackward4>)\n"
     ]
    }
   ],
   "source": [
    "# Torch Neural Network Module\n",
    "\n",
    "import torch.nn as nn\n",
    "\n",
    "sample = t.tensor([1.,2.,3.])\n",
    "linear = nn.Linear(3,3,bias=False)\n",
    "print(linear(sample))"
   ]
  },
  {
   "cell_type": "code",
   "execution_count": 81,
   "id": "1cc3dd19-8769-4735-bfb2-1e56a156f7ad",
   "metadata": {},
   "outputs": [
    {
     "data": {
      "text/plain": [
       "tensor([0.0900, 0.2447, 0.6652])"
      ]
     },
     "execution_count": 81,
     "metadata": {},
     "output_type": "execute_result"
    }
   ],
   "source": [
    "# Softmax Function \n",
    "import torch.nn.functional as F\n",
    "\n",
    "tensor5 = t.tensor([1.0,2.0,3.0])\n",
    "softmax_out = F.softmax(tensor5, dim=0)\n",
    "softmax_out"
   ]
  },
  {
   "cell_type": "code",
   "execution_count": 85,
   "id": "9043a0c0-dc3f-42b1-b4ab-d1e930aa9bcb",
   "metadata": {},
   "outputs": [
    {
     "name": "stdout",
     "output_type": "stream",
     "text": [
      "torch.Size([3, 300])\n"
     ]
    }
   ],
   "source": [
    "# Embeddings\n",
    "\n",
    "\n",
    "# Create an embedding layer.\n",
    "# This layer will convert word indices into dense vectors of a fixed size.\n",
    "# Here, we define the following:\n",
    "# - num_embeddings=1000: Our vocabulary size is 1000. This means we have 1000 unique words.\n",
    "# - embedding_dim=300: Each word will be represented by a 300-dimensional vector.\n",
    "embedding = nn.Embedding(num_embeddings=1000, embedding_dim=300)\n",
    "\n",
    "\n",
    "# Create an example input. \n",
    "# This is a tensor containing indices of words. These indices are just numbers that \n",
    "# represent words in our vocabulary. For example, 1 might represent \"cat\", 56 might \n",
    "# represent \"dog\", and so on. The dtype=torch.long specifies that the numbers are integers.\n",
    "input_indices = t.tensor([1, 56, 700], dtype=t.long)\n",
    "\n",
    "\n",
    "# Use the embedding layer to get the dense vector representations (embeddings) of our words.\n",
    "# The 'embedding' layer looks up the vector for each word index in our input_indices.\n",
    "# So for each number in input_indices, the layer returns a 300-dimensional vector.\n",
    "embeddings = embedding(input_indices)\n",
    "\n",
    "# Print out the embeddings to see what they look like.\n",
    "print(embeddings.shape)\n"
   ]
  },
  {
   "cell_type": "code",
   "execution_count": 89,
   "id": "1a81cfbc-60b6-4bfa-9d73-16ecb4685207",
   "metadata": {},
   "outputs": [
    {
     "name": "stdout",
     "output_type": "stream",
     "text": [
      "tensor([[4, 4],\n",
      "        [4, 4]])\n"
     ]
    }
   ],
   "source": [
    "tensor1 = t.tensor([[1,1],[1,1]])\n",
    "tensor2 = t.tensor([[2,2],[2,2]])\n",
    "print((tensor1 @ tensor2))"
   ]
  },
  {
   "cell_type": "code",
   "execution_count": null,
   "id": "aef8e65e-a92e-4013-89f8-a03792202b84",
   "metadata": {},
   "outputs": [],
   "source": []
  }
 ],
 "metadata": {
  "kernelspec": {
   "display_name": "poetry_llm",
   "language": "python",
   "name": "poetry_llm"
  },
  "language_info": {
   "codemirror_mode": {
    "name": "ipython",
    "version": 3
   },
   "file_extension": ".py",
   "mimetype": "text/x-python",
   "name": "python",
   "nbconvert_exporter": "python",
   "pygments_lexer": "ipython3",
   "version": "3.9.6"
  }
 },
 "nbformat": 4,
 "nbformat_minor": 5
}
