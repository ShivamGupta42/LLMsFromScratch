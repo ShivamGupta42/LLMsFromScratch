{
 "cells": [
  {
   "cell_type": "code",
   "execution_count": 28,
   "id": "792476b1-ec1d-4b9f-b633-1738641bd138",
   "metadata": {},
   "outputs": [
    {
     "data": {
      "text/plain": [
       "'cpu'"
      ]
     },
     "execution_count": 28,
     "metadata": {},
     "output_type": "execute_result"
    }
   ],
   "source": [
    "import torch as t\n",
    "import numpy as np\n",
    "import time \n",
    "device = 'cuda' if t.cuda.is_available() else 'cpu'\n",
    "device "
   ]
  },
  {
   "cell_type": "code",
   "execution_count": 3,
   "id": "8dbd5868-2cbc-4285-9e35-04cdb324f5b9",
   "metadata": {},
   "outputs": [
    {
     "data": {
      "text/plain": [
       "tensor([ 98,  32,  48,  14,  89, -22])"
      ]
     },
     "execution_count": 3,
     "metadata": {},
     "output_type": "execute_result"
    }
   ],
   "source": [
    "## Basic tensor creations\n",
    "\n",
    "randTensor = t.randint(-100,100,(6,))\n",
    "randTensor"
   ]
  },
  {
   "cell_type": "code",
   "execution_count": 9,
   "id": "64cc0451-7426-4090-8a63-64dc1a7eab9b",
   "metadata": {},
   "outputs": [
    {
     "data": {
      "text/plain": [
       "tensor([[1.0000, 2.0000, 3.0000],\n",
       "        [4.2000, 5.1000, 6.1000]])"
      ]
     },
     "execution_count": 9,
     "metadata": {},
     "output_type": "execute_result"
    }
   ],
   "source": [
    "t.tensor([[1,2,3],[4.2,5.1,6.1])"
   ]
  },
  {
   "cell_type": "code",
   "execution_count": 10,
   "id": "eee9fdbd-005f-423f-a739-262c9b23b627",
   "metadata": {},
   "outputs": [
    {
     "data": {
      "text/plain": [
       "tensor([[0., 0., 0., 0., 0.],\n",
       "        [0., 0., 0., 0., 0.],\n",
       "        [0., 0., 0., 0., 0.],\n",
       "        [0., 0., 0., 0., 0.],\n",
       "        [0., 0., 0., 0., 0.]])"
      ]
     },
     "execution_count": 10,
     "metadata": {},
     "output_type": "execute_result"
    }
   ],
   "source": [
    "t.zeros(5,5)"
   ]
  },
  {
   "cell_type": "code",
   "execution_count": 11,
   "id": "0825cd16-30b9-4db3-bd56-9a8a496203c7",
   "metadata": {},
   "outputs": [
    {
     "data": {
      "text/plain": [
       "tensor([[1., 1., 1., 1.],\n",
       "        [1., 1., 1., 1.]])"
      ]
     },
     "execution_count": 11,
     "metadata": {},
     "output_type": "execute_result"
    }
   ],
   "source": [
    "t.ones(2,4)"
   ]
  },
  {
   "cell_type": "code",
   "execution_count": 14,
   "id": "b8c23976-8d75-40de-9b6f-d556a02ec8b7",
   "metadata": {},
   "outputs": [
    {
     "data": {
      "text/plain": [
       "tensor([[0., 0.]])"
      ]
     },
     "execution_count": 14,
     "metadata": {},
     "output_type": "execute_result"
    }
   ],
   "source": [
    "t.empty(1,2)"
   ]
  },
  {
   "cell_type": "code",
   "execution_count": 17,
   "id": "3fbf3bc3-88b2-4eac-bb87-88aa0dae6c65",
   "metadata": {},
   "outputs": [
    {
     "data": {
      "text/plain": [
       "tensor([0, 1, 2, 3, 4])"
      ]
     },
     "execution_count": 17,
     "metadata": {},
     "output_type": "execute_result"
    }
   ],
   "source": [
    "t.arange(0,5)"
   ]
  },
  {
   "cell_type": "code",
   "execution_count": 19,
   "id": "c197576d-158c-4f5d-9b4a-6062a27bfe30",
   "metadata": {},
   "outputs": [
    {
     "data": {
      "text/plain": [
       "tensor([ 3.,  7., 11., 15., 19.])"
      ]
     },
     "execution_count": 19,
     "metadata": {},
     "output_type": "execute_result"
    }
   ],
   "source": [
    "t.linspace(3,19,steps=5)"
   ]
  },
  {
   "cell_type": "code",
   "execution_count": 22,
   "id": "9c16fec3-625e-4384-a027-9ee5daf869f5",
   "metadata": {},
   "outputs": [
    {
     "data": {
      "text/plain": [
       "tensor([1.0000e-10, 1.0000e-05, 1.0000e+00, 1.0000e+05, 1.0000e+10])"
      ]
     },
     "execution_count": 22,
     "metadata": {},
     "output_type": "execute_result"
    }
   ],
   "source": [
    "t.logspace(start=-10,end=10,steps=5)"
   ]
  },
  {
   "cell_type": "code",
   "execution_count": 23,
   "id": "281981df-9c84-4b5a-81a8-0ba21000c95f",
   "metadata": {},
   "outputs": [
    {
     "data": {
      "text/plain": [
       "tensor([[1., 0., 0., 0., 0.],\n",
       "        [0., 1., 0., 0., 0.],\n",
       "        [0., 0., 1., 0., 0.],\n",
       "        [0., 0., 0., 1., 0.],\n",
       "        [0., 0., 0., 0., 1.]])"
      ]
     },
     "execution_count": 23,
     "metadata": {},
     "output_type": "execute_result"
    }
   ],
   "source": [
    "t.eye(5)"
   ]
  },
  {
   "cell_type": "code",
   "execution_count": 25,
   "id": "c343a623-113c-4d44-b236-c8cd437b5782",
   "metadata": {},
   "outputs": [
    {
     "data": {
      "text/plain": [
       "tensor([[0, 0, 0],\n",
       "        [0, 0, 0]])"
      ]
     },
     "execution_count": 25,
     "metadata": {},
     "output_type": "execute_result"
    }
   ],
   "source": [
    "empty = t.empty(2,3, dtype=t.int64)\n",
    "empty_like = t.empty_like(empty)\n",
    "empty_like"
   ]
  },
  {
   "cell_type": "code",
   "execution_count": 35,
   "id": "6efb2ade-8c96-4c5e-b6dd-dbcd23752e3b",
   "metadata": {},
   "outputs": [
    {
     "name": "stdout",
     "output_type": "stream",
     "text": [
      "Init 1000*1000 : 0.00091696\n",
      " Torch Multiply 1000*1000 : 0.02043819\n",
      " Np Multiply 1000*1000 : 0.00812888\n"
     ]
    }
   ],
   "source": [
    "## Timing matrix operations\n",
    "\n",
    "### Init \n",
    "start = time.time()\n",
    "zeros = t.zeros(1000,1000)\n",
    "end = time.time()\n",
    "print(f'Init 1000*1000 : {(end-start):.8f}')\n",
    "\n",
    "\n",
    "### Multiply \n",
    "\n",
    "start = time.time()\n",
    "t_ones_a = t.rand(1000,1000)\n",
    "t_ones_b = t.rand(1000,1000)\n",
    "result = (t_ones_a @ t_ones_b)\n",
    "end = time.time()\n",
    "print(f' Torch Multiply 1000*1000 : {(end-start):.8f}')\n",
    "\n",
    "start = time.time()\n",
    "np_ones_a = t.rand(1000,1000)\n",
    "np_ones_b = t.rand(1000,1000)\n",
    "result = np.multiply(np_ones_a,np_ones_b)\n",
    "end = time.time()\n",
    "print(f' Np Multiply 1000*1000 : {(end-start):.8f}')\n",
    "\n",
    "\n",
    "\n"
   ]
  },
  {
   "cell_type": "code",
   "execution_count": null,
   "id": "a40732b3-5325-410c-9ca0-2850ef44b31a",
   "metadata": {},
   "outputs": [],
   "source": []
  }
 ],
 "metadata": {
  "kernelspec": {
   "display_name": "poetry_llm",
   "language": "python",
   "name": "poetry_llm"
  },
  "language_info": {
   "codemirror_mode": {
    "name": "ipython",
    "version": 3
   },
   "file_extension": ".py",
   "mimetype": "text/x-python",
   "name": "python",
   "nbconvert_exporter": "python",
   "pygments_lexer": "ipython3",
   "version": "3.9.6"
  }
 },
 "nbformat": 4,
 "nbformat_minor": 5
}
